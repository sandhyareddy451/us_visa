{
 "cells": [
  {
   "cell_type": "markdown",
   "id": "24506a69",
   "metadata": {},
   "source": [
    "### Data Preprocessing"
   ]
  },
  {
   "cell_type": "code",
   "execution_count": 1,
   "id": "a0390fbb",
   "metadata": {},
   "outputs": [],
   "source": [
    "# importing packages\n",
    "\n",
    "import pandas as pd\n",
    "import numpy as np\n",
    "import matplotlib.pyplot as plt\n",
    "import seaborn as sns\n",
    "import warnings\n",
    "warnings.filterwarnings(\"ignore\")\n",
    "pd.pandas.set_option (\"display.max_columns\", None)\n"
   ]
  },
  {
   "cell_type": "code",
   "execution_count": 2,
   "id": "6cbcc417",
   "metadata": {},
   "outputs": [],
   "source": [
    "df = pd.read_csv(\"Visadataset.csv\")"
   ]
  },
  {
   "cell_type": "code",
   "execution_count": 3,
   "id": "34b4c6a4",
   "metadata": {},
   "outputs": [
    {
     "data": {
      "text/plain": [
       "(25480, 12)"
      ]
     },
     "execution_count": 3,
     "metadata": {},
     "output_type": "execute_result"
    }
   ],
   "source": [
    "df.shape"
   ]
  },
  {
   "cell_type": "markdown",
   "id": "5945a2c5",
   "metadata": {},
   "source": [
    "## Data Cleaning\n",
    "\n",
    "\n",
    "\n",
    "\n",
    "- Handling Missing values\n",
    "- Handling Duplicates\n",
    "- Check data type\n",
    "- Understand the dataset"
   ]
  },
  {
   "cell_type": "markdown",
   "id": "8fee9741",
   "metadata": {},
   "source": [
    "## Check Null Values\n"
   ]
  },
  {
   "cell_type": "code",
   "execution_count": 4,
   "id": "ddcc4b15",
   "metadata": {},
   "outputs": [],
   "source": [
    "features_with_na = [feature for feature in df.columns if df[feature].isnull().sum()>=1]\n",
    "for feature in features_with_na:\n",
    "    print(feature, np.round(df[feature].isnull().mean()*100, 5), \"% missing values\")\n",
    "\n",
    "\n",
    "\n"
   ]
  },
  {
   "cell_type": "code",
   "execution_count": 5,
   "id": "a10cfc98",
   "metadata": {},
   "outputs": [
    {
     "data": {
      "text/plain": [
       "[]"
      ]
     },
     "execution_count": 5,
     "metadata": {},
     "output_type": "execute_result"
    }
   ],
   "source": [
    "features_with_na"
   ]
  },
  {
   "cell_type": "markdown",
   "id": "8dca1257",
   "metadata": {},
   "source": [
    "- There are no null values in the dataset"
   ]
  },
  {
   "cell_type": "markdown",
   "id": "db0986fe",
   "metadata": {},
   "source": [
    "## Handling Duplicates"
   ]
  },
  {
   "cell_type": "code",
   "execution_count": 6,
   "id": "c02c9d5e",
   "metadata": {},
   "outputs": [
    {
     "data": {
      "text/plain": [
       "np.int64(0)"
      ]
     },
     "execution_count": 6,
     "metadata": {},
     "output_type": "execute_result"
    }
   ],
   "source": [
    "df.duplicated().sum()"
   ]
  },
  {
   "cell_type": "markdown",
   "id": "fd80ac74",
   "metadata": {},
   "source": [
    "- There are no duplicate values in the dataset"
   ]
  },
  {
   "cell_type": "markdown",
   "id": "318c4f56",
   "metadata": {},
   "source": [
    "**Remove case_id from the dataset as it cannot used in Model Training**"
   ]
  },
  {
   "cell_type": "code",
   "execution_count": 7,
   "id": "00c1278f",
   "metadata": {},
   "outputs": [],
   "source": [
    "df.drop('case_id', inplace=True, axis =1)"
   ]
  },
  {
   "cell_type": "markdown",
   "id": "45a47c55",
   "metadata": {},
   "source": [
    "### Feature Engineering"
   ]
  },
  {
   "cell_type": "code",
   "execution_count": 8,
   "id": "7d784724",
   "metadata": {},
   "outputs": [
    {
     "data": {
      "text/html": [
       "<div>\n",
       "<style scoped>\n",
       "    .dataframe tbody tr th:only-of-type {\n",
       "        vertical-align: middle;\n",
       "    }\n",
       "\n",
       "    .dataframe tbody tr th {\n",
       "        vertical-align: top;\n",
       "    }\n",
       "\n",
       "    .dataframe thead th {\n",
       "        text-align: right;\n",
       "    }\n",
       "</style>\n",
       "<table border=\"1\" class=\"dataframe\">\n",
       "  <thead>\n",
       "    <tr style=\"text-align: right;\">\n",
       "      <th></th>\n",
       "      <th>continent</th>\n",
       "      <th>education_of_employee</th>\n",
       "      <th>has_job_experience</th>\n",
       "      <th>requires_job_training</th>\n",
       "      <th>no_of_employees</th>\n",
       "      <th>yr_of_estab</th>\n",
       "      <th>region_of_employment</th>\n",
       "      <th>prevailing_wage</th>\n",
       "      <th>unit_of_wage</th>\n",
       "      <th>full_time_position</th>\n",
       "      <th>case_status</th>\n",
       "    </tr>\n",
       "  </thead>\n",
       "  <tbody>\n",
       "    <tr>\n",
       "      <th>0</th>\n",
       "      <td>Asia</td>\n",
       "      <td>High School</td>\n",
       "      <td>N</td>\n",
       "      <td>N</td>\n",
       "      <td>14513</td>\n",
       "      <td>2007</td>\n",
       "      <td>West</td>\n",
       "      <td>592.2029</td>\n",
       "      <td>Hour</td>\n",
       "      <td>Y</td>\n",
       "      <td>Denied</td>\n",
       "    </tr>\n",
       "    <tr>\n",
       "      <th>1</th>\n",
       "      <td>Asia</td>\n",
       "      <td>Master's</td>\n",
       "      <td>Y</td>\n",
       "      <td>N</td>\n",
       "      <td>2412</td>\n",
       "      <td>2002</td>\n",
       "      <td>Northeast</td>\n",
       "      <td>83425.6500</td>\n",
       "      <td>Year</td>\n",
       "      <td>Y</td>\n",
       "      <td>Certified</td>\n",
       "    </tr>\n",
       "    <tr>\n",
       "      <th>2</th>\n",
       "      <td>Asia</td>\n",
       "      <td>Bachelor's</td>\n",
       "      <td>N</td>\n",
       "      <td>Y</td>\n",
       "      <td>44444</td>\n",
       "      <td>2008</td>\n",
       "      <td>West</td>\n",
       "      <td>122996.8600</td>\n",
       "      <td>Year</td>\n",
       "      <td>Y</td>\n",
       "      <td>Denied</td>\n",
       "    </tr>\n",
       "    <tr>\n",
       "      <th>3</th>\n",
       "      <td>Asia</td>\n",
       "      <td>Bachelor's</td>\n",
       "      <td>N</td>\n",
       "      <td>N</td>\n",
       "      <td>98</td>\n",
       "      <td>1897</td>\n",
       "      <td>West</td>\n",
       "      <td>83434.0300</td>\n",
       "      <td>Year</td>\n",
       "      <td>Y</td>\n",
       "      <td>Denied</td>\n",
       "    </tr>\n",
       "    <tr>\n",
       "      <th>4</th>\n",
       "      <td>Africa</td>\n",
       "      <td>Master's</td>\n",
       "      <td>Y</td>\n",
       "      <td>N</td>\n",
       "      <td>1082</td>\n",
       "      <td>2005</td>\n",
       "      <td>South</td>\n",
       "      <td>149907.3900</td>\n",
       "      <td>Year</td>\n",
       "      <td>Y</td>\n",
       "      <td>Certified</td>\n",
       "    </tr>\n",
       "  </tbody>\n",
       "</table>\n",
       "</div>"
      ],
      "text/plain": [
       "  continent education_of_employee has_job_experience requires_job_training  \\\n",
       "0      Asia           High School                  N                     N   \n",
       "1      Asia              Master's                  Y                     N   \n",
       "2      Asia            Bachelor's                  N                     Y   \n",
       "3      Asia            Bachelor's                  N                     N   \n",
       "4    Africa              Master's                  Y                     N   \n",
       "\n",
       "   no_of_employees  yr_of_estab region_of_employment  prevailing_wage  \\\n",
       "0            14513         2007                 West         592.2029   \n",
       "1             2412         2002            Northeast       83425.6500   \n",
       "2            44444         2008                 West      122996.8600   \n",
       "3               98         1897                 West       83434.0300   \n",
       "4             1082         2005                South      149907.3900   \n",
       "\n",
       "  unit_of_wage full_time_position case_status  \n",
       "0         Hour                  Y      Denied  \n",
       "1         Year                  Y   Certified  \n",
       "2         Year                  Y      Denied  \n",
       "3         Year                  Y      Denied  \n",
       "4         Year                  Y   Certified  "
      ]
     },
     "execution_count": 8,
     "metadata": {},
     "output_type": "execute_result"
    }
   ],
   "source": [
    "df.head()"
   ]
  },
  {
   "cell_type": "code",
   "execution_count": 9,
   "id": "65fe4bc2",
   "metadata": {},
   "outputs": [
    {
     "data": {
      "text/plain": [
       "2025"
      ]
     },
     "execution_count": 9,
     "metadata": {},
     "output_type": "execute_result"
    }
   ],
   "source": [
    "# finding the age of the company\n",
    "from datetime import date\n",
    "\n",
    "today_date  = date.today()\n",
    "current_year = today_date.year\n",
    "current_year"
   ]
  },
  {
   "cell_type": "markdown",
   "id": "409b3917",
   "metadata": {},
   "source": [
    "**Subtract current year with year of estab to get company's age**"
   ]
  },
  {
   "cell_type": "code",
   "execution_count": 10,
   "id": "00190112",
   "metadata": {},
   "outputs": [],
   "source": [
    "df['company_age'] = current_year - df['yr_of_estab']"
   ]
  },
  {
   "cell_type": "code",
   "execution_count": 11,
   "id": "6ff97a60",
   "metadata": {},
   "outputs": [
    {
     "data": {
      "text/plain": [
       "0         18\n",
       "1         23\n",
       "2         17\n",
       "3        128\n",
       "4         20\n",
       "        ... \n",
       "25475     17\n",
       "25476     19\n",
       "25477    115\n",
       "25478    138\n",
       "25479     65\n",
       "Name: company_age, Length: 25480, dtype: int64"
      ]
     },
     "execution_count": 11,
     "metadata": {},
     "output_type": "execute_result"
    }
   ],
   "source": [
    "df['company_age']"
   ]
  },
  {
   "cell_type": "code",
   "execution_count": 12,
   "id": "77af5a4a",
   "metadata": {},
   "outputs": [
    {
     "data": {
      "text/html": [
       "<div>\n",
       "<style scoped>\n",
       "    .dataframe tbody tr th:only-of-type {\n",
       "        vertical-align: middle;\n",
       "    }\n",
       "\n",
       "    .dataframe tbody tr th {\n",
       "        vertical-align: top;\n",
       "    }\n",
       "\n",
       "    .dataframe thead th {\n",
       "        text-align: right;\n",
       "    }\n",
       "</style>\n",
       "<table border=\"1\" class=\"dataframe\">\n",
       "  <thead>\n",
       "    <tr style=\"text-align: right;\">\n",
       "      <th></th>\n",
       "      <th>continent</th>\n",
       "      <th>education_of_employee</th>\n",
       "      <th>has_job_experience</th>\n",
       "      <th>requires_job_training</th>\n",
       "      <th>no_of_employees</th>\n",
       "      <th>yr_of_estab</th>\n",
       "      <th>region_of_employment</th>\n",
       "      <th>prevailing_wage</th>\n",
       "      <th>unit_of_wage</th>\n",
       "      <th>full_time_position</th>\n",
       "      <th>case_status</th>\n",
       "      <th>company_age</th>\n",
       "    </tr>\n",
       "  </thead>\n",
       "  <tbody>\n",
       "    <tr>\n",
       "      <th>0</th>\n",
       "      <td>Asia</td>\n",
       "      <td>High School</td>\n",
       "      <td>N</td>\n",
       "      <td>N</td>\n",
       "      <td>14513</td>\n",
       "      <td>2007</td>\n",
       "      <td>West</td>\n",
       "      <td>592.2029</td>\n",
       "      <td>Hour</td>\n",
       "      <td>Y</td>\n",
       "      <td>Denied</td>\n",
       "      <td>18</td>\n",
       "    </tr>\n",
       "    <tr>\n",
       "      <th>1</th>\n",
       "      <td>Asia</td>\n",
       "      <td>Master's</td>\n",
       "      <td>Y</td>\n",
       "      <td>N</td>\n",
       "      <td>2412</td>\n",
       "      <td>2002</td>\n",
       "      <td>Northeast</td>\n",
       "      <td>83425.6500</td>\n",
       "      <td>Year</td>\n",
       "      <td>Y</td>\n",
       "      <td>Certified</td>\n",
       "      <td>23</td>\n",
       "    </tr>\n",
       "    <tr>\n",
       "      <th>2</th>\n",
       "      <td>Asia</td>\n",
       "      <td>Bachelor's</td>\n",
       "      <td>N</td>\n",
       "      <td>Y</td>\n",
       "      <td>44444</td>\n",
       "      <td>2008</td>\n",
       "      <td>West</td>\n",
       "      <td>122996.8600</td>\n",
       "      <td>Year</td>\n",
       "      <td>Y</td>\n",
       "      <td>Denied</td>\n",
       "      <td>17</td>\n",
       "    </tr>\n",
       "    <tr>\n",
       "      <th>3</th>\n",
       "      <td>Asia</td>\n",
       "      <td>Bachelor's</td>\n",
       "      <td>N</td>\n",
       "      <td>N</td>\n",
       "      <td>98</td>\n",
       "      <td>1897</td>\n",
       "      <td>West</td>\n",
       "      <td>83434.0300</td>\n",
       "      <td>Year</td>\n",
       "      <td>Y</td>\n",
       "      <td>Denied</td>\n",
       "      <td>128</td>\n",
       "    </tr>\n",
       "    <tr>\n",
       "      <th>4</th>\n",
       "      <td>Africa</td>\n",
       "      <td>Master's</td>\n",
       "      <td>Y</td>\n",
       "      <td>N</td>\n",
       "      <td>1082</td>\n",
       "      <td>2005</td>\n",
       "      <td>South</td>\n",
       "      <td>149907.3900</td>\n",
       "      <td>Year</td>\n",
       "      <td>Y</td>\n",
       "      <td>Certified</td>\n",
       "      <td>20</td>\n",
       "    </tr>\n",
       "  </tbody>\n",
       "</table>\n",
       "</div>"
      ],
      "text/plain": [
       "  continent education_of_employee has_job_experience requires_job_training  \\\n",
       "0      Asia           High School                  N                     N   \n",
       "1      Asia              Master's                  Y                     N   \n",
       "2      Asia            Bachelor's                  N                     Y   \n",
       "3      Asia            Bachelor's                  N                     N   \n",
       "4    Africa              Master's                  Y                     N   \n",
       "\n",
       "   no_of_employees  yr_of_estab region_of_employment  prevailing_wage  \\\n",
       "0            14513         2007                 West         592.2029   \n",
       "1             2412         2002            Northeast       83425.6500   \n",
       "2            44444         2008                 West      122996.8600   \n",
       "3               98         1897                 West       83434.0300   \n",
       "4             1082         2005                South      149907.3900   \n",
       "\n",
       "  unit_of_wage full_time_position case_status  company_age  \n",
       "0         Hour                  Y      Denied           18  \n",
       "1         Year                  Y   Certified           23  \n",
       "2         Year                  Y      Denied           17  \n",
       "3         Year                  Y      Denied          128  \n",
       "4         Year                  Y   Certified           20  "
      ]
     },
     "execution_count": 12,
     "metadata": {},
     "output_type": "execute_result"
    }
   ],
   "source": [
    "df.head()"
   ]
  },
  {
   "cell_type": "code",
   "execution_count": 13,
   "id": "abb33121",
   "metadata": {},
   "outputs": [],
   "source": [
    "#drop the yr_of_estab column\n",
    "\n",
    "df.drop('yr_of_estab',inplace = True, axis =1)"
   ]
  },
  {
   "cell_type": "code",
   "execution_count": 14,
   "id": "e1cd12e2",
   "metadata": {},
   "outputs": [
    {
     "data": {
      "text/html": [
       "<div>\n",
       "<style scoped>\n",
       "    .dataframe tbody tr th:only-of-type {\n",
       "        vertical-align: middle;\n",
       "    }\n",
       "\n",
       "    .dataframe tbody tr th {\n",
       "        vertical-align: top;\n",
       "    }\n",
       "\n",
       "    .dataframe thead th {\n",
       "        text-align: right;\n",
       "    }\n",
       "</style>\n",
       "<table border=\"1\" class=\"dataframe\">\n",
       "  <thead>\n",
       "    <tr style=\"text-align: right;\">\n",
       "      <th></th>\n",
       "      <th>continent</th>\n",
       "      <th>education_of_employee</th>\n",
       "      <th>has_job_experience</th>\n",
       "      <th>requires_job_training</th>\n",
       "      <th>no_of_employees</th>\n",
       "      <th>region_of_employment</th>\n",
       "      <th>prevailing_wage</th>\n",
       "      <th>unit_of_wage</th>\n",
       "      <th>full_time_position</th>\n",
       "      <th>case_status</th>\n",
       "      <th>company_age</th>\n",
       "    </tr>\n",
       "  </thead>\n",
       "  <tbody>\n",
       "    <tr>\n",
       "      <th>0</th>\n",
       "      <td>Asia</td>\n",
       "      <td>High School</td>\n",
       "      <td>N</td>\n",
       "      <td>N</td>\n",
       "      <td>14513</td>\n",
       "      <td>West</td>\n",
       "      <td>592.2029</td>\n",
       "      <td>Hour</td>\n",
       "      <td>Y</td>\n",
       "      <td>Denied</td>\n",
       "      <td>18</td>\n",
       "    </tr>\n",
       "    <tr>\n",
       "      <th>1</th>\n",
       "      <td>Asia</td>\n",
       "      <td>Master's</td>\n",
       "      <td>Y</td>\n",
       "      <td>N</td>\n",
       "      <td>2412</td>\n",
       "      <td>Northeast</td>\n",
       "      <td>83425.6500</td>\n",
       "      <td>Year</td>\n",
       "      <td>Y</td>\n",
       "      <td>Certified</td>\n",
       "      <td>23</td>\n",
       "    </tr>\n",
       "    <tr>\n",
       "      <th>2</th>\n",
       "      <td>Asia</td>\n",
       "      <td>Bachelor's</td>\n",
       "      <td>N</td>\n",
       "      <td>Y</td>\n",
       "      <td>44444</td>\n",
       "      <td>West</td>\n",
       "      <td>122996.8600</td>\n",
       "      <td>Year</td>\n",
       "      <td>Y</td>\n",
       "      <td>Denied</td>\n",
       "      <td>17</td>\n",
       "    </tr>\n",
       "    <tr>\n",
       "      <th>3</th>\n",
       "      <td>Asia</td>\n",
       "      <td>Bachelor's</td>\n",
       "      <td>N</td>\n",
       "      <td>N</td>\n",
       "      <td>98</td>\n",
       "      <td>West</td>\n",
       "      <td>83434.0300</td>\n",
       "      <td>Year</td>\n",
       "      <td>Y</td>\n",
       "      <td>Denied</td>\n",
       "      <td>128</td>\n",
       "    </tr>\n",
       "    <tr>\n",
       "      <th>4</th>\n",
       "      <td>Africa</td>\n",
       "      <td>Master's</td>\n",
       "      <td>Y</td>\n",
       "      <td>N</td>\n",
       "      <td>1082</td>\n",
       "      <td>South</td>\n",
       "      <td>149907.3900</td>\n",
       "      <td>Year</td>\n",
       "      <td>Y</td>\n",
       "      <td>Certified</td>\n",
       "      <td>20</td>\n",
       "    </tr>\n",
       "  </tbody>\n",
       "</table>\n",
       "</div>"
      ],
      "text/plain": [
       "  continent education_of_employee has_job_experience requires_job_training  \\\n",
       "0      Asia           High School                  N                     N   \n",
       "1      Asia              Master's                  Y                     N   \n",
       "2      Asia            Bachelor's                  N                     Y   \n",
       "3      Asia            Bachelor's                  N                     N   \n",
       "4    Africa              Master's                  Y                     N   \n",
       "\n",
       "   no_of_employees region_of_employment  prevailing_wage unit_of_wage  \\\n",
       "0            14513                 West         592.2029         Hour   \n",
       "1             2412            Northeast       83425.6500         Year   \n",
       "2            44444                 West      122996.8600         Year   \n",
       "3               98                 West       83434.0300         Year   \n",
       "4             1082                South      149907.3900         Year   \n",
       "\n",
       "  full_time_position case_status  company_age  \n",
       "0                  Y      Denied           18  \n",
       "1                  Y   Certified           23  \n",
       "2                  Y      Denied           17  \n",
       "3                  Y      Denied          128  \n",
       "4                  Y   Certified           20  "
      ]
     },
     "execution_count": 14,
     "metadata": {},
     "output_type": "execute_result"
    }
   ],
   "source": [
    "df.head()"
   ]
  },
  {
   "cell_type": "markdown",
   "id": "15d92a48",
   "metadata": {},
   "source": [
    "### Types of feature"
   ]
  },
  {
   "cell_type": "markdown",
   "id": "88cec1da",
   "metadata": {},
   "source": [
    "**Numeric Features**"
   ]
  },
  {
   "cell_type": "code",
   "execution_count": 15,
   "id": "96e5da4f",
   "metadata": {},
   "outputs": [
    {
     "name": "stdout",
     "output_type": "stream",
     "text": [
      "Numerical features :  3\n"
     ]
    }
   ],
   "source": [
    "num_features = [feature for feature in df.columns if df[feature].dtype !=\"O\"]\n",
    "print(\"Numerical features : \", len(num_features))\n",
    "\n"
   ]
  },
  {
   "cell_type": "markdown",
   "id": "3925ecef",
   "metadata": {},
   "source": [
    "\n",
    "**Categorical Features**\n"
   ]
  },
  {
   "cell_type": "code",
   "execution_count": 16,
   "id": "3e00caa7",
   "metadata": {},
   "outputs": [
    {
     "name": "stdout",
     "output_type": "stream",
     "text": [
      "Num of categorical Features:  8\n"
     ]
    }
   ],
   "source": [
    "cat_features = [feature for feature in df. columns if df[feature].dtype ==\"O\"]\n",
    "\n",
    "print(\"Num of categorical Features: \", len(cat_features))"
   ]
  },
  {
   "cell_type": "markdown",
   "id": "83c55459",
   "metadata": {},
   "source": [
    "\n",
    "**Discrete features**\n"
   ]
  },
  {
   "cell_type": "code",
   "execution_count": 17,
   "id": "87d7f5b4",
   "metadata": {},
   "outputs": [
    {
     "name": "stdout",
     "output_type": "stream",
     "text": [
      "Num of Discrete Features : 0\n"
     ]
    }
   ],
   "source": [
    "discrete_features=[feature for feature in num_features if len(df[feature].unique())<=25]\n",
    "print('Num of Discrete Features :',len(discrete_features))"
   ]
  },
  {
   "cell_type": "code",
   "execution_count": 18,
   "id": "4a171d61",
   "metadata": {},
   "outputs": [
    {
     "name": "stdout",
     "output_type": "stream",
     "text": [
      "Num of Continuous Features : 3\n"
     ]
    }
   ],
   "source": [
    "continuous_features=[feature for feature in num_features if feature not in discrete_features]\n",
    "print('Num of Continuous Features :',len(continuous_features))"
   ]
  },
  {
   "cell_type": "markdown",
   "id": "4105e3cb",
   "metadata": {},
   "source": [
    "### Split X and Y\n",
    "\n",
    "* **Here we set a variable X i.e, independent columns, and a variable y i.e, dependent column as the “Case_Status” column.**"
   ]
  },
  {
   "cell_type": "code",
   "execution_count": 20,
   "id": "aea91b48",
   "metadata": {},
   "outputs": [],
   "source": [
    "X = df.drop('case_status', axis=1)"
   ]
  },
  {
   "cell_type": "code",
   "execution_count": 23,
   "id": "22633f17",
   "metadata": {},
   "outputs": [],
   "source": [
    "y=df['case_status']"
   ]
  },
  {
   "cell_type": "code",
   "execution_count": 24,
   "id": "9e94fe6f",
   "metadata": {},
   "outputs": [
    {
     "data": {
      "text/plain": [
       "0       Denied\n",
       "1    Certified\n",
       "2       Denied\n",
       "3       Denied\n",
       "4    Certified\n",
       "Name: case_status, dtype: object"
      ]
     },
     "execution_count": 24,
     "metadata": {},
     "output_type": "execute_result"
    }
   ],
   "source": [
    "y.head()"
   ]
  },
  {
   "cell_type": "markdown",
   "id": "d6d59cb9",
   "metadata": {},
   "source": [
    "**Manual encoding target column**"
   ]
  },
  {
   "cell_type": "code",
   "execution_count": 25,
   "id": "60dde4e5",
   "metadata": {},
   "outputs": [],
   "source": [
    "# If the target column has denied, it is replaced by  1 and other are 0\n",
    "\n",
    "y = np.where(y==\"Denied\", 1,0)"
   ]
  },
  {
   "cell_type": "code",
   "execution_count": 26,
   "id": "1247d731",
   "metadata": {},
   "outputs": [
    {
     "data": {
      "text/plain": [
       "array([1, 0, 1, ..., 0, 0, 0], shape=(25480,))"
      ]
     },
     "execution_count": 26,
     "metadata": {},
     "output_type": "execute_result"
    }
   ],
   "source": [
    "y"
   ]
  },
  {
   "cell_type": "markdown",
   "id": "c1c306b0",
   "metadata": {},
   "source": [
    "## Feature Transformation\n",
    "\n",
    "#### distribution of data before scaling"
   ]
  },
  {
   "cell_type": "code",
   "execution_count": 27,
   "id": "1bc53122",
   "metadata": {},
   "outputs": [
    {
     "data": {
      "image/png": "[encoded data removed]",
      "text/plain": [
       "<Figure size 1200x600 with 3 Axes>"
      ]
     },
     "metadata": {},
     "output_type": "display_data"
    }
   ],
   "source": [
    "plt.figure(figsize=(12, 6))\n",
    "for i, col in enumerate(['no_of_employees','prevailing_wage','company_age']):\n",
    "    plt.subplot(2, 2, i+1)\n",
    "    sns.histplot(x=X[col], color='indianred')\n",
    "    plt.xlabel(col)\n",
    "    plt.tight_layout()"
   ]
  },
  {
   "cell_type": "markdown",
   "id": "4e4b0c72",
   "metadata": {},
   "source": [
    "* No of employees and Company age column is skewed\n",
    "* Apply a power transform featurewise to make data more Gaussian-like.\n",
    "\n",
    "Power transforms are a family of parametric, monotonic transformations that are applied to make data more Gaussian-like. This is useful for modeling issues related to heteroscedasticity (non-constant variance), or other situations where normality is desired.\n",
    "\n",
    "Currently, PowerTransformer supports the Box-Cox transform and the Yeo-Johnson transform."
   ]
  },
  {
   "cell_type": "markdown",
   "id": "95b617ac",
   "metadata": {},
   "source": [
    "**What is Skewness ?**\n",
    "\n",
    "* Skewness refers to a distortion or asymmetry that deviates from the symmetrical bell curve, or normal distribution, in a set of data. If the curve is shifted to the left or to the right, it is said to be skewed. Skewness can be quantified as a representation of the extent to which a given distribution varies from a normal distribution. A normal distribution has a skew of zero"
   ]
  },
  {
   "cell_type": "markdown",
   "id": "3f971ba5",
   "metadata": {},
   "source": [
    "### Check Skewness"
   ]
  },
  {
   "cell_type": "code",
   "execution_count": 28,
   "id": "71b7eee9",
   "metadata": {},
   "outputs": [
    {
     "data": {
      "text/plain": [
       "no_of_employees    12.265260\n",
       "prevailing_wage     0.755776\n",
       "company_age         2.037301\n",
       "dtype: float64"
      ]
     },
     "execution_count": 28,
     "metadata": {},
     "output_type": "execute_result"
    }
   ],
   "source": [
    "X[continuous_features].skew(axis=0, skipna=True)"
   ]
  },
  {
   "cell_type": "markdown",
   "id": "d7817f2c",
   "metadata": {},
   "source": [
    "- Positiviely Skewed : company_age, no_of_employees.\n",
    "- We can handle outliers and then check the skewness."
   ]
  },
  {
   "cell_type": "markdown",
   "id": "e89d1134",
   "metadata": {},
   "source": [
    "### Apply Power Transformer to Check if it can reduces the outliers"
   ]
  },
  {
   "cell_type": "code",
   "execution_count": null,
   "id": "cf7bf815",
   "metadata": {},
   "outputs": [],
   "source": [
    "from sklearn.preprocessing import PowerTransformer\n",
    "pt = PowerTransformer(method = \"yeo-johnson\")\n",
    "transform_features = ['no_of_employees', 'company_age']"
   ]
  }
 ],
 "metadata": {
  "kernelspec": {
   "display_name": "test",
   "language": "python",
   "name": "python3"
  },
  "language_info": {
   "codemirror_mode": {
    "name": "ipython",
    "version": 3
   },
   "file_extension": ".py",
   "mimetype": "text/x-python",
   "name": "python",
   "nbconvert_exporter": "python",
   "pygments_lexer": "ipython3",
   "version": "3.11.13"
  }
 },
 "nbformat": 4,
 "nbformat_minor": 5
}
